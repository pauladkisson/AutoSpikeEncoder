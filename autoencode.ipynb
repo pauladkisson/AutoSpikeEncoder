{
 "cells": [
  {
   "cell_type": "code",
   "execution_count": 1,
<<<<<<< HEAD
=======
   "outputs": [],
   "source": [
    "import sys\n",
    "sys.path.append(\"./\")"
   ],
>>>>>>> 984b85447a17c8f4634ce2416e1d784ae58628a1
   "metadata": {
    "collapsed": false,
    "jupyter": {
     "outputs_hidden": false
    },
    "pycharm": {
     "name": "#%%\n"
    }
   },
   "outputs": [],
   "source": [
    "import sys\n",
    "import os\n",
    "sys.path.append(\"./\")"
   ]
  },
  {
   "cell_type": "code",
   "execution_count": 2,
<<<<<<< HEAD
   "metadata": {},
   "outputs": [],
   "source": [
    "from autoencode import FFAEEnsemble\n",
    "from datasets import UnsupervisedDataset"
=======
   "metadata": {
    "collapsed": true
   },
   "outputs": [],
   "source": [
    "from autoencode import AEEnsemble\n",
    "from datasets import UnsupervisedDataset\n"
>>>>>>> 984b85447a17c8f4634ce2416e1d784ae58628a1
   ]
  },
  {
   "cell_type": "code",
<<<<<<< HEAD
   "execution_count": 3,
=======
   "execution_count": 7,
   "outputs": [],
   "source": [
    "data = UnsupervisedDataset('./data/alm1/')"
   ],
>>>>>>> 984b85447a17c8f4634ce2416e1d784ae58628a1
   "metadata": {
    "collapsed": false,
    "jupyter": {
     "outputs_hidden": false
    },
    "pycharm": {
     "name": "#%%\n"
    }
   },
   "outputs": [],
   "source": [
    "data = UnsupervisedDataset('./data/alm1/')"
   ]
  },
  {
   "cell_type": "code",
<<<<<<< HEAD
   "execution_count": 4,
   "metadata": {
    "collapsed": false,
    "jupyter": {
     "outputs_hidden": false
    },
    "pycharm": {
     "name": "#%%\n"
    }
   },
=======
   "execution_count": 10,
>>>>>>> 984b85447a17c8f4634ce2416e1d784ae58628a1
   "outputs": [
    {
     "name": "stdout",
     "output_type": "stream",
     "text": [
      "Using cuda:0\n",
      "Using cuda:0\n",
      "Using cuda:0\n",
      "Using cuda:0\n",
      "Using cuda:0\n",
      "Using cuda:0\n"
     ]
    }
   ],
   "source": [
<<<<<<< HEAD
    "os.environ[\"CUDA_VISIBLE_DEVICES\"] = \"5\"\n",
    "ae = FFAEEnsemble(batch_size=80, lr=[1e-4, 1e-4, 1e-4], epochs=25, device='cuda:0')"
   ]
  },
  {
   "cell_type": "code",
   "execution_count": 5,
=======
    "ae = AEEnsemble(batch_size=20, lr=[1e-5, 1e-5, 1e-5], epochs=50, device='cuda:0')"
   ],
>>>>>>> 984b85447a17c8f4634ce2416e1d784ae58628a1
   "metadata": {
    "collapsed": false,
    "jupyter": {
     "outputs_hidden": false
    },
    "pycharm": {
     "name": "#%%\n"
    }
<<<<<<< HEAD
   },
=======
   }
  },
  {
   "cell_type": "code",
   "execution_count": 11,
>>>>>>> 984b85447a17c8f4634ce2416e1d784ae58628a1
   "outputs": [
    {
     "name": "stdout",
     "output_type": "stream",
     "text": [
      "\n",
      "EPOCH 1 of 50\n",
      "\n",
      "EPOCH 2 of 50\n",
      "\n",
      "EPOCH 3 of 50\n",
      "\n",
      "EPOCH 4 of 50\n",
      "\n",
      "EPOCH 5 of 50\n",
      "\n",
      "EPOCH 6 of 50\n",
      "\n",
      "EPOCH 7 of 50\n",
      "\n",
      "EPOCH 8 of 50\n",
      "\n",
      "EPOCH 9 of 50\n",
      "\n",
      "EPOCH 10 of 50\n",
      "\n",
      "EPOCH 11 of 50\n",
      "\n",
      "EPOCH 12 of 50\n",
      "\n",
      "EPOCH 13 of 50\n",
      "\n",
      "EPOCH 14 of 50\n",
      "\n",
      "EPOCH 15 of 50\n",
      "\n",
      "EPOCH 16 of 50\n",
      "\n",
      "EPOCH 17 of 50\n",
      "\n",
      "EPOCH 18 of 50\n",
      "\n",
      "EPOCH 19 of 50\n",
      "\n",
      "EPOCH 20 of 50\n",
      "\n",
      "EPOCH 21 of 50\n",
      "\n",
      "EPOCH 22 of 50\n",
      "\n",
      "EPOCH 23 of 50\n",
      "\n",
      "EPOCH 24 of 50\n",
      "\n",
      "EPOCH 25 of 50\n",
      "\n",
      "EPOCH 26 of 50\n",
      "\n",
      "EPOCH 27 of 50\n",
      "\n",
      "EPOCH 28 of 50\n",
      "\n",
      "EPOCH 29 of 50\n",
      "\n",
      "EPOCH 30 of 50\n",
      "\n",
      "EPOCH 31 of 50\n",
      "\n",
      "EPOCH 32 of 50\n",
      "\n",
      "EPOCH 33 of 50\n",
      "\n",
      "EPOCH 34 of 50\n",
      "\n",
      "EPOCH 35 of 50\n",
      "\n",
      "EPOCH 36 of 50\n",
      "\n",
      "EPOCH 37 of 50\n",
      "\n",
      "EPOCH 38 of 50\n",
      "\n",
      "EPOCH 39 of 50\n",
      "\n",
      "EPOCH 40 of 50\n",
      "\n",
      "EPOCH 41 of 50\n",
      "\n",
      "EPOCH 42 of 50\n",
      "\n",
      "EPOCH 43 of 50\n",
      "\n",
      "EPOCH 44 of 50\n",
      "\n",
      "EPOCH 45 of 50\n",
      "\n",
      "EPOCH 46 of 50\n",
      "\n",
      "EPOCH 47 of 50\n",
      "\n",
      "EPOCH 48 of 50\n",
      "\n",
      "EPOCH 49 of 50\n",
      "\n",
      "EPOCH 50 of 50\n"
     ]
    }
   ],
   "source": [
    "loss_history = ae.fit(data)"
   ]
  },
  {
   "cell_type": "code",
<<<<<<< HEAD
   "execution_count": 6,
=======
   "execution_count": 12,
   "outputs": [],
   "source": [
    "import pickle\n",
    "with open('./local_saves/conv_ae_ensemble.pkl', 'wb') as f:\n",
    "    pickle.dump(ae, f)"
   ],
   "metadata": {
    "collapsed": false,
    "pycharm": {
     "name": "#%%\n"
    }
   }
  },
  {
   "cell_type": "code",
   "execution_count": 6,
   "outputs": [
    {
     "ename": "EOFError",
     "evalue": "Ran out of input",
     "output_type": "error",
     "traceback": [
      "\u001B[0;31m---------------------------------------------------------------------------\u001B[0m",
      "\u001B[0;31mEOFError\u001B[0m                                  Traceback (most recent call last)",
      "\u001B[0;32m<ipython-input-6-b04c5f8e1cfa>\u001B[0m in \u001B[0;36m<module>\u001B[0;34m\u001B[0m\n\u001B[1;32m      1\u001B[0m \u001B[0;32mimport\u001B[0m \u001B[0mpickle\u001B[0m\u001B[0;34m\u001B[0m\u001B[0;34m\u001B[0m\u001B[0m\n\u001B[1;32m      2\u001B[0m \u001B[0;32mwith\u001B[0m \u001B[0mopen\u001B[0m\u001B[0;34m(\u001B[0m\u001B[0;34m'./local_saves/conv_ae_ensemble.pkl'\u001B[0m\u001B[0;34m,\u001B[0m \u001B[0;34m'rb'\u001B[0m\u001B[0;34m)\u001B[0m \u001B[0;32mas\u001B[0m \u001B[0mf\u001B[0m\u001B[0;34m:\u001B[0m\u001B[0;34m\u001B[0m\u001B[0;34m\u001B[0m\u001B[0m\n\u001B[0;32m----> 3\u001B[0;31m     \u001B[0mae\u001B[0m \u001B[0;34m=\u001B[0m \u001B[0mpickle\u001B[0m\u001B[0;34m.\u001B[0m\u001B[0mload\u001B[0m\u001B[0;34m(\u001B[0m\u001B[0mf\u001B[0m\u001B[0;34m)\u001B[0m\u001B[0;34m\u001B[0m\u001B[0;34m\u001B[0m\u001B[0m\n\u001B[0m\u001B[1;32m      4\u001B[0m \u001B[0;34m\u001B[0m\u001B[0m\n",
      "\u001B[0;31mEOFError\u001B[0m: Ran out of input"
     ]
    }
   ],
   "source": [
    "import pickle\n",
    "with open('./local_saves/conv_ae_ensemble.pkl', 'rb') as f:\n",
    "    ae = pickle.load(f)"
   ],
   "metadata": {
    "collapsed": false,
    "pycharm": {
     "name": "#%%\n"
    }
   }
  },
  {
   "cell_type": "code",
   "execution_count": 13,
   "outputs": [],
   "source": [
    "ae.predict(data, fname='embeddings_conv_ensemble.npy')\n"
   ],
>>>>>>> 984b85447a17c8f4634ce2416e1d784ae58628a1
   "metadata": {
    "collapsed": false,
    "jupyter": {
     "outputs_hidden": false
    },
    "pycharm": {
     "name": "#%%\n"
    }
   },
   "outputs": [],
   "source": [
    "ae.predict(data)\n",
    "ae.save()"
   ]
  }
 ],
 "metadata": {
  "kernelspec": {
   "display_name": "Python 3",
   "language": "python",
   "name": "python3"
  },
  "language_info": {
   "codemirror_mode": {
    "name": "ipython",
    "version": 3
   },
   "file_extension": ".py",
   "mimetype": "text/x-python",
   "name": "python",
   "nbconvert_exporter": "python",
   "pygments_lexer": "ipython3",
   "version": "3.8.5"
  }
 },
 "nbformat": 4,
 "nbformat_minor": 4
}
