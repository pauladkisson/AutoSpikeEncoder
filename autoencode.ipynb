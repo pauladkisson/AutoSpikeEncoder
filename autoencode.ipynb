{
 "cells": [
  {
   "cell_type": "code",
   "execution_count": 1,
   "metadata": {
    "collapsed": false,
    "jupyter": {
     "outputs_hidden": false
    },
    "pycharm": {
     "name": "#%%\n"
    }
   },
   "outputs": [],
   "source": [
    "import sys\n",
    "import os\n",
    "sys.path.append(\"./\")"
   ]
  },
  {
   "cell_type": "code",
   "execution_count": 2,
   "metadata": {},
   "outputs": [],
   "source": [
    "from autoencode import FFAEEnsemble\n",
    "from datasets import UnsupervisedDataset"
   ]
  },
  {
   "cell_type": "code",
   "execution_count": 3,
   "metadata": {
    "collapsed": false,
    "jupyter": {
     "outputs_hidden": false
    },
    "pycharm": {
     "name": "#%%\n"
    }
   },
   "outputs": [],
   "source": [
    "data = UnsupervisedDataset('./data/alm1/')"
   ]
  },
  {
   "cell_type": "code",
   "execution_count": 4,
   "metadata": {
    "collapsed": false,
    "jupyter": {
     "outputs_hidden": false
    },
    "pycharm": {
     "name": "#%%\n"
    }
   },
   "outputs": [
    {
     "name": "stdout",
     "output_type": "stream",
     "text": [
      "Using cuda:0\n",
      "Using cuda:0\n",
      "Using cuda:0\n",
      "Using cuda:0\n",
      "Using cuda:0\n",
      "Using cuda:0\n"
     ]
    }
   ],
   "source": [
    "os.environ[\"CUDA_VISIBLE_DEVICES\"] = \"5\"\n",
    "ae = FFAEEnsemble(batch_size=80, lr=[1e-4, 1e-4, 1e-4], epochs=25, device='cuda:0')"
   ]
  },
  {
   "cell_type": "code",
   "execution_count": 5,
   "metadata": {
    "collapsed": false,
    "jupyter": {
     "outputs_hidden": false
    },
    "pycharm": {
     "name": "#%%\n"
    }
   },
   "outputs": [
    {
     "name": "stdout",
     "output_type": "stream",
     "text": [
      "\n",
      "EPOCH 1 of 25\n",
      "\n",
      "EPOCH 2 of 25\n",
      "\n",
      "EPOCH 3 of 25\n",
      "\n",
      "EPOCH 4 of 25\n",
      "\n",
      "EPOCH 5 of 25\n",
      "\n",
      "EPOCH 6 of 25\n",
      "\n",
      "EPOCH 7 of 25\n",
      "\n",
      "EPOCH 8 of 25\n",
      "\n",
      "EPOCH 9 of 25\n",
      "\n",
      "EPOCH 10 of 25\n",
      "\n",
      "EPOCH 11 of 25\n",
      "\n",
      "EPOCH 12 of 25\n",
      "\n",
      "EPOCH 13 of 25\n",
      "\n",
      "EPOCH 14 of 25\n",
      "\n",
      "EPOCH 15 of 25\n",
      "\n",
      "EPOCH 16 of 25\n",
      "\n",
      "EPOCH 17 of 25\n",
      "\n",
      "EPOCH 18 of 25\n",
      "\n",
      "EPOCH 19 of 25\n",
      "\n",
      "EPOCH 20 of 25\n",
      "\n",
      "EPOCH 21 of 25\n",
      "\n",
      "EPOCH 22 of 25\n",
      "\n",
      "EPOCH 23 of 25\n",
      "\n",
      "EPOCH 24 of 25\n",
      "\n",
      "EPOCH 25 of 25\n"
     ]
    }
   ],
   "source": [
    "loss_history = ae.fit(data)"
   ]
  },
  {
   "cell_type": "code",
   "execution_count": 6,
   "metadata": {
    "collapsed": false,
    "jupyter": {
     "outputs_hidden": false
    },
    "pycharm": {
     "name": "#%%\n"
    }
   },
   "outputs": [],
   "source": [
    "ae.predict(data)\n",
    "ae.save()"
   ]
  }
 ],
 "metadata": {
  "kernelspec": {
   "display_name": "Python 3",
   "language": "python",
   "name": "python3"
  },
  "language_info": {
   "codemirror_mode": {
    "name": "ipython",
    "version": 3
   },
   "file_extension": ".py",
   "mimetype": "text/x-python",
   "name": "python",
   "nbconvert_exporter": "python",
   "pygments_lexer": "ipython3",
   "version": "3.8.5"
  }
 },
 "nbformat": 4,
 "nbformat_minor": 4
}
