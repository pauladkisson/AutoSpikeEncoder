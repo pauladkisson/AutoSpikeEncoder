{
 "cells": [
  {
   "cell_type": "code",
   "execution_count": 1,
   "metadata": {},
   "outputs": [],
   "source": [
    "import os\n",
    "import numpy as np\n",
    "from sklearn.decomposition import PCA\n",
    "from sklearn.manifold import TSNE\n",
    "import matplotlib.pyplot as plt\n",
    "import seaborn as sns\n",
    "import torch\n",
    "import torch.nn as nn\n",
    "from torchsummary import summary\n",
    "from torch.utils.data import Dataset, DataLoader\n",
    "\n",
    "os.environ[\"CUDA_VISIBLE_DEVICES\"] = \"8\"\n",
    "device = \"cuda:0\" if torch.cuda.is_available() else \"cpu\"\n",
    "\n",
    "sns.set_theme()\n",
    "sns.set_context(\"paper\")"
   ]
  },
  {
   "cell_type": "code",
   "execution_count": 2,
   "metadata": {},
   "outputs": [
    {
     "name": "stdout",
     "output_type": "stream",
     "text": [
      "----------------------------------------------------------------\n",
      "        Layer (type)               Output Shape         Param #\n",
      "================================================================\n",
      "            Linear-1                [-1, 1, 18]             180\n",
      "            Linear-2                [-1, 1, 36]             684\n",
      "           Dropout-3                [-1, 1, 36]               0\n",
      "            Linear-4               [-1, 1, 144]           5,328\n",
      "           Dropout-5               [-1, 1, 144]               0\n",
      "            Linear-6                [-1, 1, 20]           2,900\n",
      "           Softmax-7                [-1, 1, 20]               0\n",
      "================================================================\n",
      "Total params: 9,092\n",
      "Trainable params: 9,092\n",
      "Non-trainable params: 0\n",
      "----------------------------------------------------------------\n",
      "Input size (MB): 0.00\n",
      "Forward/backward pass size (MB): 0.00\n",
      "Params size (MB): 0.03\n",
      "Estimated Total Size (MB): 0.04\n",
      "----------------------------------------------------------------\n"
     ]
    }
   ],
   "source": [
    "class MLP(nn.Module):\n",
    "    '''\n",
    "    '''\n",
    "    def __init__(self):\n",
    "        '''\n",
    "        '''\n",
    "        super(MLP, self).__init__()\n",
    "        \n",
    "        self.fc1 = nn.Linear(9, 18)\n",
    "        self.fc2 = nn.Linear(18, 36)\n",
    "        self.fc3 = nn.Linear(36, 144)\n",
    "        self.fc4 = nn.Linear(144, 20)\n",
    "        \n",
    "        self.activation = nn.Softmax(dim=0)\n",
    "        self.dropout = nn.Dropout(p=0.5)\n",
    "    \n",
    "    def forward(self, x):\n",
    "        '''\n",
    "        '''\n",
    "        \n",
    "        x = self.fc1(x)\n",
    "        x = self.fc2(x)\n",
    "        x = self.dropout(x)\n",
    "        x = self.fc3(x)\n",
    "        x = self.dropout(x)\n",
    "        x = self.fc4(x)\n",
    "        \n",
    "        x = self.activation(x)\n",
    "        return x\n",
    "\n",
    "model = MLP()\n",
    "model = model.to(device)\n",
    "summary(model, input_size=(1, 9))"
   ]
  },
  {
   "cell_type": "code",
   "execution_count": 3,
   "metadata": {},
   "outputs": [],
   "source": [
    "class Pedreira_PCA(Dataset):\n",
    "    def __init__(self, op=\"train\"):\n",
    "        '''\n",
    "        '''\n",
    "        self.op = op\n",
    "        self.data_dir = \"/export/gaon1/data/jteneggi/DL/pedreira\"\n",
    "        self.pca = PCA(n_components=9)\n",
    "        self.gt_dir = os.path.join(self.data_dir, \"ground_truth\")\n",
    "        self.spike_classes = np.load(os.path.join(self.gt_dir, \"spike_classes.npy\"), allow_pickle=True).squeeze()\n",
    "        \n",
    "    def __len__(self):\n",
    "        if self.op==\"train\":\n",
    "            return 80\n",
    "        else:\n",
    "            return 15\n",
    "    \n",
    "    def __getitem__(self, idx):\n",
    "        if self.op == \"val\":\n",
    "            idx += 80\n",
    "        \n",
    "        session_dir = os.path.join(self.data_dir, f\"session_{idx}\")\n",
    "        channel_dir = os.path.join(session_dir, \"channel_0\")\n",
    "        \n",
    "        spikes = np.load(os.path.join(channel_dir, \"spikes.npy\"), allow_pickle=True).squeeze()\n",
    "        reduced_data = self.pca.fit_transform(spikes)\n",
    "        \n",
    "        gt_classes = self.spike_classes[idx].squeeze()\n",
    "        \n",
    "        features = torch.from_numpy(reduced_data)\n",
    "        targets = torch.from_numpy(gt_classes)\n",
    "        \n",
    "        return features, targets, spikes"
   ]
  },
  {
   "cell_type": "code",
   "execution_count": 8,
   "metadata": {},
   "outputs": [
    {
     "data": {
      "image/png": "[encoded data removed]",
      "text/plain": [
       "<Figure size 432x288 with 1 Axes>"
      ]
     },
     "metadata": {},
     "output_type": "display_data"
    }
   ],
   "source": [
    "phases = [\"train\", \"val\"]\n",
    "\n",
    "train_dataset = Pedreira_PCA()\n",
    "val_dataset = Pedreira_PCA(op=\"val\")\n",
    "\n",
    "dataloaders = {\n",
    "    \"train\": DataLoader(train_dataset, batch_size=1, shuffle=True),\n",
    "    \"val\": DataLoader(val_dataset, batch_size=1, shuffle=False)\n",
    "}\n",
    "\n",
    "features, targets, spikes = next(iter(dataloaders[\"val\"]))\n",
    "\n",
    "for _features, _targets, _spikes in zip(features, targets, spikes):\n",
    "    for spike, target in list(zip(_spikes, _targets))[:5]:\n",
    "        plt.plot(spike)"
   ]
  },
  {
   "cell_type": "code",
   "execution_count": 5,
   "metadata": {},
   "outputs": [],
   "source": [
    "data_dir = \"/export/gaon1/data/jteneggi/DL\"\n",
    "pedreira_dir = os.path.join(data_dir, \"pedreira\")\n",
    "gt_dir = os.path.join(pedreira_dir, \"ground_truth\")\n",
    "\n",
    "spike_classes = np.load(os.path.join(gt_dir, \"spike_classes.npy\"), allow_pickle=True).squeeze()\n",
    "\n",
    "n_sess = 95\n",
    "for sess in range(n_sess):\n",
    "    sess_dir = os.path.join(pedreira_dir, f\"session_{sess}\")\n",
    "    channel_dir = os.path.join(sess_dir, \"channel_0\")\n",
    "    spikes = np.load(os.path.join(channel_dir, \"spikes.npy\"), allow_pickle=True)\n",
    "    spike_times = np.load(os.path.join(channel_dir, \"spike_times.npy\"), allow_pickle=True)\n",
    "    gt_classes = spike_classes[sess].squeeze()\n",
    "    assert len(spikes) == len(gt_classes)\n",
    "    pca = PCA(n_components=9)"
   ]
  },
  {
   "cell_type": "code",
   "execution_count": null,
   "metadata": {},
   "outputs": [],
   "source": []
  }
 ],
 "metadata": {
  "kernelspec": {
   "display_name": "Python 3",
   "language": "python",
   "name": "python3"
  },
  "language_info": {
   "codemirror_mode": {
    "name": "ipython",
    "version": 3
   },
   "file_extension": ".py",
   "mimetype": "text/x-python",
   "name": "python",
   "nbconvert_exporter": "python",
   "pygments_lexer": "ipython3",
   "version": "3.8.5"
  }
 },
 "nbformat": 4,
 "nbformat_minor": 4
}
