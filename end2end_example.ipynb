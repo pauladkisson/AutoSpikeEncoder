{
 "cells": [
  {
   "cell_type": "code",
   "execution_count": 1,
   "metadata": {
    "collapsed": true
   },
   "outputs": [],
   "source": [
    "from end2end import End2End\n",
    "from datasets import UnsupervisedDataset\n",
    "from matplotlib import pyplot as plt\n",
    "import pickle"
   ]
  },
  {
   "cell_type": "markdown",
   "metadata": {
    "pycharm": {
     "name": "#%% md\n"
    }
   },
   "source": [
    "Load a subset of the ALM data (only has seesion 1 trials 1-20). We are loading only data\n",
    "from channel 4, since it doesn't make sense to cluster data from multiple channels.\n"
   ]
  },
  {
   "cell_type": "code",
   "execution_count": 2,
   "metadata": {
    "pycharm": {
     "name": "#%%\n"
    }
   },
   "outputs": [],
   "source": [
    "data = UnsupervisedDataset('./data/alm1_medium/', requested_channels=(4,))\n"
   ]
  },
  {
   "cell_type": "markdown",
   "metadata": {
    "pycharm": {
     "name": "#%% md\n"
    }
   },
   "source": [
    "Initialize the end-to-end algorithm, we think there may be between 2 and ten neurons, and\n",
    "must choose the best option.\n",
    "\n",
    "First, a convolutional autoencoder is run to partial convergence in order to provide\n",
    "somewhat informative embeddings. Then we optimize for the multitarget reconstruction and\n",
    "center loss (using GMM clustering at each epoch) for the requested number of epochs.\n",
    "\n",
    "The out-of-order output is due to asynchronous multiprocessing"
   ]
  },
  {
   "cell_type": "code",
   "execution_count": 3,
   "metadata": {
    "pycharm": {
     "name": "#%%\n"
    }
   },
   "outputs": [
    {
     "name": "stdout",
     "output_type": "stream",
     "text": [
      "Using CPU\n",
      "Using CPU\n",
      "Using CPU\n",
      "Using CPU\n",
      "Using CPU\n",
      "Using CPU\n",
      "***INITIALIZING AUTOENCODER***\n",
      "\n",
      "EPOCH 1 of 20\n",
      "\n",
      "EPOCH 2 of 20\n",
      "\n",
      "EPOCH 3 of 20\n",
      "\n",
      "EPOCH 4 of 20\n",
      "\n",
      "EPOCH 5 of 20\n",
      "\n",
      "EPOCH 6 of 20\n",
      "\n",
      "EPOCH 7 of 20\n",
      "\n",
      "EPOCH 8 of 20\n",
      "\n",
      "EPOCH 9 of 20\n",
      "\n",
      "EPOCH 10 of 20\n",
      "\n",
      "EPOCH 11 of 20\n",
      "\n",
      "EPOCH 12 of 20\n",
      "\n",
      "EPOCH 13 of 20\n",
      "\n",
      "EPOCH 14 of 20\n",
      "\n",
      "EPOCH 15 of 20\n",
      "\n",
      "EPOCH 16 of 20\n",
      "\n",
      "EPOCH 17 of 20\n",
      "\n",
      "EPOCH 18 of 20\n",
      "\n",
      "EPOCH 19 of 20\n",
      "\n",
      "EPOCH 20 of 20\n"
     ]
    }
   ],
   "source": [
    "e2e = End2End(min_k=2, max_k=10, epochs=100, device='cpu')\n",
    "e2e.fit(data)"
   ]
  },
  {
   "cell_type": "code",
   "execution_count": 4,
   "metadata": {
    "pycharm": {
     "name": "#%%\n"
    }
   },
   "outputs": [],
   "source": [
    "with open('./local/e2e_unsup_med_ch4.pkl', 'wb') as f:\n",
    "    pickle.dump(e2e, f)\n"
   ]
  },
  {
   "cell_type": "code",
   "execution_count": 3,
   "metadata": {
    "pycharm": {
     "name": "#%%\n"
    }
   },
   "outputs": [],
   "source": [
    "with open('./local/e2e_unsup_med_ch4.pkl', 'rb') as f:\n",
    "    e2e = pickle.load(f)"
   ]
  },
  {
   "cell_type": "code",
   "execution_count": 5,
   "metadata": {
    "pycharm": {
     "name": "#%%\n"
    }
   },
   "outputs": [
    {
     "data": {
      "text/plain": "<Figure size 432x288 with 1 Axes>",
      "image/png": "[encoded data removed]"
     },
     "metadata": {
      "needs_background": "light"
     },
     "output_type": "display_data"
    }
   ],
   "source": [
    "ks, bics = e2e.bics(data)\n",
    "plt.scatter(ks, bics)\n",
    "plt.title(\"BIC for Different Numbers of Theoretical Source Neurons, ALM Channel 4\")\n",
    "plt.show()"
   ]
  },
  {
   "cell_type": "markdown",
   "metadata": {
    "pycharm": {
     "name": "#%% md\n"
    }
   },
   "source": [
    "It looks like there are 6 source neurons. Lets see what that clustering looks like in 2D"
   ]
  },
  {
   "cell_type": "code",
   "execution_count": 6,
   "metadata": {
    "pycharm": {
     "name": "#%%\n"
    }
   },
   "outputs": [],
   "source": [
    "BEST_K = 6\n",
    "from sklearn.manifold import TSNE\n",
    "tsne = TSNE(n_components=2)\n",
    "labels, _, embeddings = e2e.predict(data, BEST_K, return_latent=True)\n",
    "manifold = tsne.fit_transform(embeddings)\n",
    "x = manifold[:, 0]\n",
    "y = manifold[:, 1]"
   ]
  },
  {
   "cell_type": "code",
   "execution_count": 7,
   "metadata": {
    "pycharm": {
     "name": "#%%\n"
    }
   },
   "outputs": [
    {
     "data": {
      "text/plain": "Text(0.5, 1.0, '$t-SNE$ embeddings')"
     },
     "execution_count": 7,
     "metadata": {},
     "output_type": "execute_result"
    },
    {
     "data": {
      "text/plain": "<Figure size 432x288 with 1 Axes>",
      "image/png": "[encoded data removed]"
     },
     "metadata": {
      "needs_background": "light"
     },
     "output_type": "display_data"
    }
   ],
   "source": [
    "for c in range(BEST_K):\n",
    "    plt.scatter(x[labels == c], y[labels == c], marker=\".\", s=.5)\n",
    "plt.xlabel(r\"First dimension\")\n",
    "plt.ylabel(r\"Second dimension\")\n",
    "plt.title(r\"$t-SNE$ embeddings\")"
   ]
  },
  {
   "cell_type": "code",
   "execution_count": null,
   "outputs": [],
   "source": [
    "\n"
   ],
   "metadata": {
    "collapsed": false,
    "pycharm": {
     "name": "#%%\n"
    }
   }
  }
 ],
 "metadata": {
  "kernelspec": {
   "display_name": "Python 3",
   "language": "python",
   "name": "python3"
  },
  "language_info": {
   "codemirror_mode": {
    "name": "ipython",
    "version": 3
   },
   "file_extension": ".py",
   "mimetype": "text/x-python",
   "name": "python",
   "nbconvert_exporter": "python",
   "pygments_lexer": "ipython3",
   "version": "3.8.5"
  }
 },
 "nbformat": 4,
 "nbformat_minor": 1
}