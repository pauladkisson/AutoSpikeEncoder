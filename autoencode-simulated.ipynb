{
 "cells": [
  {
   "cell_type": "code",
   "execution_count": 1,
   "metadata": {},
   "outputs": [],
   "source": [
    "import sys\n",
    "import os\n",
    "import torch\n",
    "import torch.nn as nn\n",
    "import numpy as np\n",
    "\n",
    "sys.path.append(\"./\")"
   ]
  },
  {
   "cell_type": "code",
   "execution_count": 2,
   "metadata": {},
   "outputs": [],
   "source": [
    "from autoencode import AEEnsemble\n",
    "from datasets import UnsupervisedDataset, SupervisedDataset"
   ]
  },
  {
   "cell_type": "code",
   "execution_count": 3,
   "metadata": {},
   "outputs": [
    {
     "name": "stdout",
     "output_type": "stream",
     "text": [
      "(12012, 39)\n"
     ]
    }
   ],
   "source": [
    "sup_data = SupervisedDataset(\"/export/gaon1/data/jteneggi/DL/pedreira\")\n",
    "\n",
    "spikes, targets = sup_data[0]\n",
    "\n",
    "assert len(spikes) == len(targets)\n",
    "print(spikes.shape)"
   ]
  },
  {
   "cell_type": "code",
   "execution_count": 4,
   "metadata": {},
   "outputs": [
    {
     "name": "stdout",
     "output_type": "stream",
     "text": [
      "Using cuda:0\n",
      "Using cuda:0\n",
      "Using cuda:0\n",
      "Using cuda:0\n",
      "Using cuda:0\n",
      "Using cuda:0\n"
     ]
    }
   ],
   "source": [
    "os.environ[\"CUDA_VISIBLE_DEVICES\"] = \"9\"\n",
    "device = \"cuda:0\" if torch.cuda.is_available() else \"cpu\"\n",
    "\n",
    "ae = AEEnsemble(\n",
    "    optim=torch.optim.Adam,\n",
    "    convolutional_encoding=True, \n",
    "    batch_size=32, \n",
    "    epochs=50, \n",
    "    lr=(0.001, 0.001, 0.001),\n",
    "    device=device, \n",
    ")"
   ]
  },
  {
   "cell_type": "code",
   "execution_count": null,
   "metadata": {},
   "outputs": [
    {
     "name": "stdout",
     "output_type": "stream",
     "text": [
      "\n",
      "EPOCH 1 of 50\n",
      "\n",
      "EPOCH 2 of 50\n",
      "\n",
      "EPOCH 3 of 50\n",
      "\n",
      "EPOCH 4 of 50\n",
      "\n",
      "EPOCH 5 of 50\n",
      "\n",
      "EPOCH 6 of 50\n",
      "\n",
      "EPOCH 7 of 50\n",
      "\n",
      "EPOCH 8 of 50\n",
      "\n",
      "EPOCH 9 of 50\n",
      "\n",
      "EPOCH 10 of 50\n",
      "\n",
      "EPOCH 11 of 50\n",
      "\n",
      "EPOCH 12 of 50\n",
      "\n",
      "EPOCH 13 of 50\n",
      "\n",
      "EPOCH 14 of 50\n",
      "\n",
      "EPOCH 15 of 50\n",
      "\n",
      "EPOCH 16 of 50\n",
      "\n",
      "EPOCH 17 of 50\n",
      "\n",
      "EPOCH 18 of 50\n",
      "\n",
      "EPOCH 19 of 50\n",
      "\n",
      "EPOCH 20 of 50\n",
      "\n",
      "EPOCH 21 of 50\n",
      "\n",
      "EPOCH 22 of 50\n",
      "\n",
      "EPOCH 23 of 50\n",
      "\n",
      "EPOCH 24 of 50\n",
      "\n",
      "EPOCH 25 of 50\n",
      "\n",
      "EPOCH 26 of 50\n",
      "\n",
      "EPOCH 27 of 50\n",
      "\n",
      "EPOCH 28 of 50\n",
      "\n",
      "EPOCH 29 of 50\n"
     ]
    }
   ],
   "source": [
    "loss_history = ae.fit(sup_data)\n",
    "ae.save(prefix=\"simulated\")"
   ]
  },
  {
   "cell_type": "code",
   "execution_count": null,
   "metadata": {},
   "outputs": [],
   "source": [
    "import matplotlib.pyplot as plt\n",
    "for ae_loss in loss_history:\n",
    "    plt.plot(ae_loss)"
   ]
  },
  {
   "cell_type": "code",
   "execution_count": null,
   "metadata": {},
   "outputs": [],
   "source": [
    "device = torch.device(\"cuda:0\")\n",
    "\n",
    "spikes, _ = sup_data[0]\n",
    "spikes = torch.from_numpy(spikes).float().to(device)\n",
    "print(spikes.size())\n",
    "for e, d in zip(ae.encoders, ae.decoders):\n",
    "    e.eval()\n",
    "    d.eval()\n",
    "for spike in spikes[:10]:\n",
    "    spike = spike.unsqueeze(0)\n",
    "    latent_vecs = [e(spike) for e in ae.encoders]\n",
    "    reconstructed = [d(latent_vecs[i]) for i, d in enumerate(ae.decoders)]    \n",
    "    plt.plot(spike.squeeze().detach().cpu(), label=\"original\")\n",
    "    for r in reconstructed:\n",
    "        plt.plot(r.squeeze().detach().cpu(), label=\"reconstructed\")\n",
    "    plt.legend()\n",
    "    plt.show()"
   ]
  },
  {
   "cell_type": "code",
   "execution_count": null,
   "metadata": {},
   "outputs": [],
   "source": []
  }
 ],
 "metadata": {
  "kernelspec": {
   "display_name": "Python 3",
   "language": "python",
   "name": "python3"
  },
  "language_info": {
   "codemirror_mode": {
    "name": "ipython",
    "version": 3
   },
   "file_extension": ".py",
   "mimetype": "text/x-python",
   "name": "python",
   "nbconvert_exporter": "python",
   "pygments_lexer": "ipython3",
   "version": "3.8.5"
  }
 },
 "nbformat": 4,
 "nbformat_minor": 4
}
